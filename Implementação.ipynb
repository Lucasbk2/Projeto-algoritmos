{
  "cells": [
    {
      "metadata": {
        "trusted": true
      },
      "cell_type": "code",
      "source": "bd=[]\nusuarioAtual = -1\ndecidirVaga=0\nuser = 0\nuserLogado = 1\nmarcar = 0\nbloqueador = 0\n\nrua1 = [True, True, True, True]\nrua2 = [True, True, True, True, True]\nrua3 = [True]\nbairro = [rua1,rua2,rua3]\n\ndef marcarVaga():\n    print(bd)\n    if(user == 0):\n        print(\"Usuario não logado\")\n        print('')\n    else:\n        for contador in range (len(bd)):\n            if login == bd[contador]['placa'] and senha == bd[contador]['senha']:\n                if(bd[contador][\"rua\"] == -1 and bd[contador][\"vaga\"] == -1):\n                    vagaSomador = 0\n                    for y in range(len(bairro)):\n                        print(\"----Rua {0}----\".format(y+1))\n                        for y2 in range (len(bairro[y])):\n                            if(y2 == 0):\n                                print(\"vaga {0} = {1}\".format(y2 + 1, bairro[y][y2]), end=\"\")\n\n                            else:\n                                print(\", vaga {0} = {1}\".format(y2+1, bairro[y][y2] ), end=\"\")\n\n                            if bairro[y][y2] == True:\n                                vagaSomador +=1\n                        print(\" \")\n                        print('Existem {0} vagas na rua {1}'.format(vagaSomador,y+1))\n                        vagaSomador = 0\n                    global marcar\n                    marcar = int(input(\"Deseja marcar uma vaga em qual rua?(valor numerico) caso não queira marcar digitar 0\"))\n                    print('')\n                    marcar -=1\n\n                    if marcar >= 0 and marcar <= len(bairro[y]):\n                        for x2 in range(len(bairro)):\n                            if x2 == marcar:\n                                global marcar2\n                                marcar2 = int(input('Deseja marcar em qual vaga: '))\n                                marcar2 -= 1\n                                if marcar2 < (len(bairro[x2])):\n                                    if bairro[x2][marcar2] == False:\n                                        print('Essa vaga já está marcada, tente novamente.')\n                                    else:\n                                        print('Vaga marcada')\n                                        bairro[x2][marcar2] = False\n\n                                        for x3 in range(len(bd)):\n                                            if login == bd[x3]['placa'] and senha == bd[x3]['senha']:\n                                                bd[x3]['rua'] = marcar\n                                                bd[x3]['vaga'] = marcar2\n                                else:\n                                    print('Vaga inválida')\n\n                    else:\n                        print(\"Nenhuma rua selecionada\")\n\n                else:\n                    print(\"Você já possui uma vaga, é necessário desmarcar uma vaga antes de prosseguir\")\n                    print('')\n\ndef desmarcarVaga():\n    decidirDesmarcar = input('Deseja desmarcar a vaga marcada Sim ou não: ')\n    if decidirDesmarcar == 'Sim' or decidirDesmarcar == 'sim':\n        for x4 in range (len(bd)):\n            if login == bd[x4]['placa'] and senha == bd[x4]['senha']:\n                if bd[x4]['rua'] ==-1 and bd[x4]['vaga'] ==-1:\n                    print('Para desmarcar uma vaga é necessário ter uma vaga marcada antes.')\n                else:\n                    x5aux = -1\n                    for x5 in range (len(bairro)):\n                        x5aux += 1\n                        if x5aux == bd[x4]['rua']:\n                            x6aux = -1\n\n                            for x6 in range (len(bairro[x5])):\n                                x6aux =+ 1\n                                if x6 == bd[x4]['vaga']:\n                                    bairro[x5][x6] = True\n                                    bd[x4]['rua'] = -1\n                                    bd[x4]['vaga'] = -1\n                                    print('vaga resetada')\n\n    elif decidirDesmarcar == 'não' or decidirDesmarcar =='nao' or decidirDesmarcar == 'Não':\n        print('Retornando para as opções de marcação')\n    else:\n        print('Comando inválido')\n\ndef cadastro():\n    dados = {}\n    dados['placa'] = input('Digite seu nome: ')\n    dados['senha'] = input(\"Digite sua senha: \")\n    dados['rua'] = -1\n    dados['vaga'] = -1\n    global bloqueador\n    bloqueador += 1\n    if bloqueador > 1:\n        for registro in range (len(bd)):\n            if dados['placa'] == bd[registro]['placa']:\n                print('Está placa já está registrada, tente outra vez. ')\n            else:\n                bd.append(dados)\n    elif bloqueador == 1:\n        bd.append(dados)\n\n\ndef entrar():\n    global user\n    global login\n    global senha\n    login = input('Digite seu login: ')\n    senha = input('Digite sua senha: ')\n    for x in range(len(bd)):  # roda a quantidade de listas em bd\n        if login == bd[x]['placa'] and senha == bd[x]['senha']:\n            usuarioAtual = -1\n            print(\"Usuário autenticado!\")\n            user = 1\n            break\n        else:\n            usuarioAtual = -1\n            user = 0\n    if user == 0:\n        print(\"Usuario ou senha Inválidos, tente novamente!\")\n\n# programa principal\nstart = 1\nwhile start != '3':\n\n    if user == 1:\n        start2 = 0\n        while start2 != 3:\n            start2 = str(input('Deseja marcar uma vaga(1), desmarcar uma vaga(2) ou realizar logoff(3): '))\n            print('')\n\n            if start2 == '1':\n                marcarVaga()\n            elif(start2 == \"2\"):\n                desmarcarVaga()\n            elif(start2 == \"3\"):\n                user = 0\n                login = ''\n                senha = ''\n                start = 0\n                start2 = 3\n                marcar = 0\n                marcar2 = 0\n            else:\n                print(\"Comando inválido\")\n    else:\n        start = input('Deseja criar uma conta(1), fazer login(2) ou sair do programa(3): ')\n        print('')\n        if start == '1':\n            cadastro()\n        elif start == '2':\n            entrar()\n",
      "execution_count": null,
      "outputs": []
    },
    {
      "metadata": {
        "trusted": true
      },
      "cell_type": "code",
      "source": "",
      "execution_count": null,
      "outputs": []
    }
  ],
  "metadata": {
    "kernelspec": {
      "name": "python36",
      "display_name": "Python 3.6",
      "language": "python"
    },
    "language_info": {
      "mimetype": "text/x-python",
      "nbconvert_exporter": "python",
      "name": "python",
      "pygments_lexer": "ipython3",
      "version": "3.6.6",
      "file_extension": ".py",
      "codemirror_mode": {
        "version": 3,
        "name": "ipython"
      }
    }
  },
  "nbformat": 4,
  "nbformat_minor": 2
}