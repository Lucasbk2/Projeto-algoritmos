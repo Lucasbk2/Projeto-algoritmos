{
  "cells": [
    {
      "metadata": {
        "collapsed": true,
        "trusted": false
      },
      "cell_type": "markdown",
      "source": "<center><h1>Projeto de algoritmos</h1> </center>"
    },
    {
      "metadata": {},
      "cell_type": "markdown",
      "source": "<center><h2>Problemas nas vagas de trânsito</h2></center>"
    },
    {
      "metadata": {},
      "cell_type": "markdown",
      "source": "<div style=\"display:flex\">\n     <div style=\"flex:1;padding-right:2px;\">\n          <p>A maioria das grandes cidades enfrenta um grande problema com o estacionamento em suas vias públicas. Grande parte destas encontrou no sistema rotativo uma forma de amenizar o problema, porém, uma ferramenta não muito eficaz ainda, quando se trata do usuário encontrar uma vaga. A cobrança no sistema de rotatividade nas ruas acaba sendo frustante, já que a busca por vagas em vias públicas demanda muito tempo, obrigando o usuário em muitas vezes a se ver obrigado a estacionar muito distante do local ao qual busca o acesso. <br> <br>\n              \nEm um primeiro momento, a ação seria demarcar os espaços para estacionamentos, catalogados por rua, com uma identificação, no caso cada vaga, e no momento em que usuário ocupe essa vaga, esta seria marcada num sistema, ou pelo agente de trânsito ou o próprio usuário, registrar através de algorítmo, assinalando-a como disponível ou não.\n     </div>\n     <div style=\"flex:1;padding-left:2px;\">\n          <img src=\"img/carga-descarga.jpg\" width='800' height='800'>\n     </div>\n</div>\n"
    },
    {
      "metadata": {
        "trusted": true
      },
      "cell_type": "code",
      "source": "",
      "execution_count": null,
      "outputs": []
    }
  ],
  "metadata": {
    "kernelspec": {
      "name": "python36",
      "display_name": "Python 3.6",
      "language": "python"
    },
    "language_info": {
      "mimetype": "text/x-python",
      "nbconvert_exporter": "python",
      "name": "python",
      "pygments_lexer": "ipython3",
      "version": "3.6.6",
      "file_extension": ".py",
      "codemirror_mode": {
        "version": 3,
        "name": "ipython"
      }
    }
  },
  "nbformat": 4,
  "nbformat_minor": 2
}