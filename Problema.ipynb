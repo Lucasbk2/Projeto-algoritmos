{
  "cells": [
    {
      "metadata": {
        "collapsed": true,
        "trusted": false
      },
      "cell_type": "markdown",
      "source": ".<center><h1>Projeto de Algoritmos</h1> </center>"
    },
    {
      "metadata": {},
      "cell_type": "markdown",
      "source": "<center><h1>-- Fase 1 --</h1></center>"
    },
    {
      "metadata": {},
      "cell_type": "markdown",
      "source": "<center><h2>Problemas nas vagas de trânsito</h2></center>"
    },
    {
      "metadata": {},
      "cell_type": "markdown",
      "source": "<div style=\"display:flex\">\n     <div style=\"flex:1;padding-right:2px;\">\n          <p>  A maioria das grandes cidades enfrentam um grande problema com estacionamento em suas vias públicas. A busca de vagas dos motoristas afeta drasticamente a mobilidade urbana, pois no tempo despendido nessa procura, acaba aumentando os congestionamentos, o consumo de combustível e consequentemente elevando os níveis de poluentes. Grande parte destas cidades encontrou no sistema rotativo uma forma de amenizar o problema, porém, uma ferramenta não muito eficaz ainda, quando se trata do usuário encontrar uma vaga. A cobrança no sistema de rotatividade nas ruas acaba sendo frustante, já que a busca por vagas em vias públicas demanda muito tempo, submetendo o usuário em muitas vezes a se ver obrigado a estacionar muito distante do local ao qual busca o acesso, ou tendo que pagar alto por um estacionamentos privativos.  <br> <br>\n              \n              \n\n\n\n\n\n\n\n\n     </div>\n     <div style=\"flex:1;padding-left:2px;\">\n          <img src=\"img/carga-descarga.jpg\" width='1000' height='1000'>\n     </div>\n</div>\n"
    },
    {
      "metadata": {},
      "cell_type": "markdown",
      "source": "<center><h1>-- Fase 2 --</h1></center>"
    },
    {
      "metadata": {},
      "cell_type": "markdown",
      "source": "<center><h1>Escopo do Projeto</h1></center>"
    },
    {
      "metadata": {},
      "cell_type": "markdown",
      "source": "<p>Buscando otimizar o estacionamento nas vias públicas das grandes cidades, foi implementado um sistema de controle de uso de vagas Inicialmente, foi identificada três ruas em um bairro, após, foram demarcadas as vagas de cada uma dessas ruas, conforme seus limites de espaços para estacionamento, onde cada uma dessas vagas recebeu uma identificação. No momento em que usuário ocupa essa vaga, esta é marcada no sistema, ou pelo agente de trânsito ou o próprio usuário, assinalando-a como disponível ou não, permitindo a um novo usuário verificar a disponibilidade de vagas em determinada via."
    },
    {
      "metadata": {},
      "cell_type": "markdown",
      "source": "<center><h1>-- Fase 3 --</h1></center>"
    },
    {
      "metadata": {},
      "cell_type": "markdown",
      "source": "<center><h1>Implementação do Projeto</h1></center>"
    },
    {
      "metadata": {},
      "cell_type": "markdown",
      "source": "<center><h2> Usuário </h2>\n<h3> Declaração de variáveis</h3></center>\n"
    },
    {
      "metadata": {
        "trusted": true
      },
      "cell_type": "code",
      "source": "bd=[]\n\ndecidirVaga=0\nuser = 0\nuserLogado = -1\nmarcar = 0\nbloqueador = 0\n\nrua1 = ['Disponível', 'Disponível', 'Disponível', 'Disponível']\nrua2 = ['Disponível', 'Disponível', 'Disponível', 'Disponível', 'Disponível']\nrua3 = ['Disponível']\nbairro = [rua1,rua2,rua3]",
      "execution_count": 1,
      "outputs": []
    },
    {
      "metadata": {
        "trusted": true
      },
      "cell_type": "markdown",
      "source": "<center><h3>Cadastro</h3></center>\nExecuta a realização do cadastro e a adiciona no banco de dados.(bd)"
    },
    {
      "metadata": {
        "trusted": true
      },
      "cell_type": "code",
      "source": "\ndef cadastro():\n    dados = { }\n    dados['placa'] = input('Digite o numero da sua placa: ')#introdução dos dados\n    dados['senha'] = input(\"Digite sua senha: \")\n    dados['rua'] = -1\n    dados['vaga'] = -1\n    global bloqueador #faz com que a variavel mantenha seu valor mesmo dentro de uma função\n    bloqueador += 1\n    if bloqueador > 1:\n        existe = False\n        for registro in range (len(bd)): #faz com que não haja 2 CPFS iguais\n            if dados['placa'] == bd[registro]['placa']:\n                print('Está placa já está registrada, tente outra vez. ')\n                existe= True\n        if(not existe ):#adiciona os dados do usuário no bd\n            bd.append(dados)\n    elif bloqueador == 1:\n        bd.append(dados)\ncadastro()",
      "execution_count": 15,
      "outputs": [
        {
          "output_type": "stream",
          "name": "stdout",
          "text": "Digite o numero da sua placa: 111\nDigite sua senha: 222\n"
        }
      ]
    },
    {
      "metadata": {},
      "cell_type": "markdown",
      "source": "<center><h3>Autenticação</h3></center>\nNa autenticação ele irá comparar os dados de login e senha com as informações do banco de dados, e caso seja verdadeiro o usuário poderá utilizar das ferramentas disponíveis para o usuário."
    },
    {
      "metadata": {
        "trusted": true
      },
      "cell_type": "code",
      "source": "\ndef entrar():\n    global user, login, senha, userLogado \n    login = input('Digite sua placa: ')\n    senha = input('Digite sua senha: ')\n    for x in range(len(bd)):  # roda a quantidade de listas em bd\n        if login == bd[x]['placa'] and senha == bd[x]['senha']:\n            userLogado = x\n            print(\"Usuário autenticado!\")\n            user = 1#autentica usuário\n            break\n        else:\n            user = 0\n    if login == 'admin' and senha == 'admin':\n        print(\"Administrador autenticado!\")\n        user = 2 #autentica administrador\n    if user == 0:\n        print(\"Usuario ou senha Inválidos, tente novamente!\")\nentrar()\n",
      "execution_count": 16,
      "outputs": [
        {
          "output_type": "stream",
          "name": "stdout",
          "text": "Digite sua placa: 111\nDigite sua senha: 222\nUsuário autenticado!\n"
        }
      ]
    },
    {
      "metadata": {},
      "cell_type": "markdown",
      "source": "<center><h3>Marcar vaga</h3></center>\nNessa função iremos marcar a vaga na conta do usuário atualmente autenticado, após escolher a rua e a vaga o usuário perde a vaga e as propriedades da vaga em seu registo."
    },
    {
      "metadata": {
        "trusted": true
      },
      "cell_type": "code",
      "source": "\ndef marcarVaga():\n    if(user == 0):\n        print(\"Usuario não logado\")\n        print('')\n    else:\n        for contador in range (len(bd)): #\n            if login == bd[contador]['placa'] and senha == bd[contador]['senha']:#verifica o usuário\n                if(bd[contador][\"rua\"] == -1 and bd[contador][\"vaga\"] == -1):#verifica se ele ja possui vaga\n                    vagaSomador = 0\n                    for y in range(len(bairro)):#Mostra as ruas e as vagas disponiveis \n                        print(\"----Rua {0}----\".format(y+1))\n                        for y2 in range (len(bairro[y])):\n                            if(y2 == 0):\n                                print(\"vaga {0} = {1}\".format(y2 + 1, bairro[y][y2]), end=\"\")\n\n                            else:\n                                print(\", vaga {0} = {1}\".format(y2+1, bairro[y][y2] ), end=\"\")\n\n                            if bairro[y][y2] == 'Disponível':\n                                vagaSomador +=1\n                        print(\" \")\n                        print('Existem {0} vagas na rua {1}'.format(vagaSomador,y+1))\n                        vagaSomador = 0\n                    global marcar #Seleciona a rua\n                    marcar = int(input(\"Deseja marcar uma vaga em qual rua?(valor numerico) caso não queira marcar digitar 0\"))\n                    print('')\n                    marcar -=1\n\n                    if marcar >= 0 and marcar <= (len(bairro)-1): #vai procurar se existe uma rua disponivel\n\n                        for x2 in range(len(bairro)):\n                            if x2 == marcar:#1\n                                global marcar2\n                                marcar2 = int(input('Deseja marcar em qual vaga: '))#vai procurar se existe uma vaga disponivel\n                                marcar2 -= 1\n                                if marcar2 < (len(bairro[x2])):\n                                    if bairro[x2][marcar2] == 'Indisponível':\n                                        print('Essa vaga já está marcada, tente novamente.')\n\n                                    else:\n                                        print('Vaga marcada')\n                                        bairro[x2][marcar2] = 'Indisponível'\n\n                                        for x3 in range(len(bd)):#ira marcar a vaga no usuário e no banco de dados do bairro\n                                            if login == bd[x3]['placa'] and senha == bd[x3]['senha']:\n                                                bd[x3]['rua'] = marcar\n                                                bd[x3]['vaga'] = marcar2\n                                                break\n                                else:\n                                    print('Vaga inválida')\n\n                    else:\n                        print(\"Nenhuma rua selecionada\")\n\n                else:\n                    print(\"Você já possui uma vaga, é necessário desmarcar uma vaga antes de prosseguir\")\n                    print('')\nmarcarVaga()",
      "execution_count": 17,
      "outputs": [
        {
          "output_type": "stream",
          "text": "----Rua 1----\nvaga 1 = Disponível, vaga 2 = Disponível, vaga 3 = Disponível, vaga 4 = Disponível \nExistem 4 vagas na rua 1\n----Rua 2----\nvaga 1 = Disponível, vaga 2 = Disponível, vaga 3 = Disponível, vaga 4 = Disponível, vaga 5 = Disponível \nExistem 5 vagas na rua 2\n----Rua 3----\nvaga 1 = Disponível \nExistem 1 vagas na rua 3\nDeseja marcar uma vaga em qual rua?(valor numerico) caso não queira marcar digitar 01\n\n['Disponível', 'Disponível', 'Disponível', 'Disponível']\n0\n2\nDeseja marcar em qual vaga: 2\nVaga marcada\n",
          "name": "stdout"
        }
      ]
    },
    {
      "metadata": {},
      "cell_type": "markdown",
      "source": "<center><h3>Desmarcar a vaga</h3></center>\nNessa função, caso o usuário possua uma vaga, irá em seguida ser desmarcada e o usuário perdera as propriedades da vaga."
    },
    {
      "metadata": {
        "trusted": true
      },
      "cell_type": "code",
      "source": "def desmarcarVaga():\n    decidirDesmarcar = input('Deseja desmarcar a vaga marcada Sim ou não: ')\n    if decidirDesmarcar == 'Sim' or decidirDesmarcar == 'sim':\n        for x4 in range (len(bd)):\n            if login == bd[x4]['placa'] and senha == bd[x4]['senha']:\n                if bd[x4]['rua'] ==-1 and bd[x4]['vaga'] ==-1: #Verifica se o usuário possui alguma vaga marcada\n                    print('Para desmarcar uma vaga é necessário ter uma vaga marcada antes.')\n                else:\n                    x5aux = -1\n                    for x5 in range (len(bairro)):#encontra a vaga que foi marcada pelo usuario\n                        x5aux += 1\n                        if x5aux == bd[x4]['rua']:\n                            x6aux = -1\n\n                            for x6 in range (len(bairro[x5])):#tira a marcação das vagas do usuário e deixa a vaga disponivel\n                                x6aux =+ 1\n                                if x6 == bd[x4]['vaga']:\n                                    bairro[x5][x6] = 'Disponível'\n                                    bd[x4]['rua'] = -1\n                                    bd[x4]['vaga'] = -1\n                                    print('vaga resetada')\n            else:\n                print(\"é necessario estar logado para desmarcar a sua vaga\")\ndesmarcarVaga()",
      "execution_count": 11,
      "outputs": [
        {
          "output_type": "stream",
          "name": "stdout",
          "text": "Deseja desmarcar a vaga marcada Sim ou não: sim\né necessario estar logado para desmarcar a sua vaga\n"
        }
      ]
    },
    {
      "metadata": {},
      "cell_type": "markdown",
      "source": "<center><h3>Visualizar a vaga</h3></center>\nBasicamente ele mostrará todas as vagas existentes."
    },
    {
      "metadata": {
        "trusted": true
      },
      "cell_type": "code",
      "source": "def visualizarRuas():\n    vagaSomador = 0\n    for y in range(len(bairro)): \n        print(\"----Rua {0}----\".format(y + 1))\n        for y2 in range(len(bairro[y])): # mostrara todas as vagas disponiveis e não nessa estrutura\n            if (y2 == 0):\n                print(\"vaga {0} = {1}\".format(y2 + 1, bairro[y][y2]), end=\"\")\n\n            else:\n                print(\", vaga {0} = {1}\".format(y2 + 1, bairro[y][y2]), end=\"\")\n\n            if bairro[y][y2] == 'Disponível':\n                vagaSomador += 1\n        print(\" \")\n        print('Existem {0} vagas na rua {1}'.format(vagaSomador, y + 1))\n        vagaSomador = 0\nvisualizarRuas()",
      "execution_count": 9,
      "outputs": [
        {
          "output_type": "stream",
          "text": "----Rua 1----\nvaga 1 = Disponível, vaga 2 = Disponível, vaga 3 = Disponível, vaga 4 = Disponível \nExistem 4 vagas na rua 1\n----Rua 2----\nvaga 1 = Disponível, vaga 2 = Disponível, vaga 3 = Disponível, vaga 4 = Disponível, vaga 5 = Disponível \nExistem 5 vagas na rua 2\n----Rua 3----\nvaga 1 = Disponível \nExistem 1 vagas na rua 3\n",
          "name": "stdout"
        }
      ]
    },
    {
      "metadata": {},
      "cell_type": "markdown",
      "source": "<center><h3>Sair da conta</h3></center>\nNesta opção ele irá apagar todas as informações necessárias para que outro usuario se utilize do sistema."
    },
    {
      "metadata": {
        "trusted": true
      },
      "cell_type": "code",
      "source": "logout = int(input('deseja sair da conta(1) ?'))\nif(logout == 1):#reseta todas as propriedades de nível\n    user = 0\n    login = ''\n    senha = ''\n    start = 0\n    start2 = 3\n    marcar = 0\n    marcar2 = 0\n    desmarcar = 0\n    desmarcar2 = 0\n    print('Logout realizado com sucesso')\nelse:\n    print(\"Dados não apagados\")\n",
      "execution_count": 10,
      "outputs": [
        {
          "output_type": "stream",
          "name": "stdout",
          "text": "deseja sair da conta(1) ?1\nLogout realizado com sucesso\n"
        }
      ]
    },
    {
      "metadata": {},
      "cell_type": "markdown",
      "source": "<center><h2> Administrador </h2>\n    <h3>Desmarcar a vaga</h3></center>\nNessa função, caso o usuário deixa a vaga marcada e o carro não está na mesma, o administrador possui a autoridade de desmarcar tal vaga, apagando também as propriedades de vaga do usuário."
    },
    {
      "metadata": {
        "trusted": true,
        "scrolled": false
      },
      "cell_type": "code",
      "source": "def desmarcarAdmin():\n    y= 0\n    y2=0\n    vagaSomador = 0\n    for y in range(len(bairro)):# visualiza as ruas\n        print(\"----Rua {0}----\".format(y + 1))\n        for y2 in range(len(bairro[y])):\n            if (y2 == 0):\n                print(\"vaga {0} = {1}\".format(y2 + 1, bairro[y][y2]), end=\"\")\n\n            else:\n                print(\", vaga {0} = {1}\".format(y2 + 1, bairro[y][y2]), end=\"\")\n\n            if bairro[y][y2] == 'Disponível':\n                vagaSomador += 1\n        print(\" \")\n        print('Existem {0} vagas na rua {1}'.format(vagaSomador, y + 1))\n        vagaSomador = 0\n    desmarcar = int(input('Deseja desmarcar a vaga em qual rua: '))\n    desmarcar -= 1\n    if desmarcar >= 0 and desmarcar <= (len(bairro )- 1):#encontra a rua onde a vaga está\n        for x2 in range(len(bairro)):\n            if x2 == desmarcar:\n                global desmarcar2\n                desmarcar2 = int(input('Deseja marcar em qual vaga: ')) #encontra a vaga na rua\n                desmarcar2 -= 1\n                if desmarcar2 < (len(bairro[x2])):\n                    if bairro[x2][desmarcar2] == 'Disponível':\n                        print('Essa vaga já está disponivel, tente novamente.')\n                    else:\n                        print('Vaga desmarcada com sucesso!')\n                        bairro[x2][desmarcar2] = 'Disponível'\n\n                        for x3 in range(len(bd)):#remove as vagas na marcação do usuário inclusa nos seus dados\n                            if desmarcar == bd[x3]['rua'] and desmarcar2 == bd[x3]['vaga']:\n                                bd[x3]['rua'] = -1\n                                bd[x3]['vaga'] = -1\n                                \ndesmarcarAdmin()",
      "execution_count": 13,
      "outputs": [
        {
          "output_type": "stream",
          "text": "----Rua 1----\nvaga 1 = Disponível, vaga 2 = Disponível, vaga 3 = Disponível, vaga 4 = Disponível \nExistem 4 vagas na rua 1\n----Rua 2----\nvaga 1 = Disponível, vaga 2 = Disponível, vaga 3 = Disponível, vaga 4 = Disponível, vaga 5 = Disponível \nExistem 5 vagas na rua 2\n----Rua 3----\nvaga 1 = Disponível \nExistem 1 vagas na rua 3\nDeseja desmarcar a vaga em qual rua: 1\nDeseja marcar em qual vaga: 1\nEssa vaga já está disponivel, tente novamente.\n",
          "name": "stdout"
        }
      ]
    },
    {
      "metadata": {
        "trusted": true
      },
      "cell_type": "markdown",
      "source": "<center><h3>Sair da conta</h3></center>\nNesta opção ele irá apagar todas as informações necessárias para que outro usuario se utilize do sistema."
    },
    {
      "metadata": {
        "trusted": true
      },
      "cell_type": "code",
      "source": "logout = int(input('deseja sair da conta(1) ?'))\nif(logout == 1):#reseta todas as propriedades de nível\n    user = 0\n    login = ''\n    senha = ''\n    start = 0\n    start2 = 3\n    marcar = 0\n    marcar2 = 0\n    desmarcar = 0\n    desmarcar2 = 0\n    print('Logout realizado com sucesso')\nelse:\n    print(\"Dados não apagados\")\n",
      "execution_count": null,
      "outputs": []
    },
    {
      "metadata": {
        "trusted": true
      },
      "cell_type": "code",
      "source": "",
      "execution_count": null,
      "outputs": []
    },
    {
      "metadata": {
        "trusted": true
      },
      "cell_type": "code",
      "source": "",
      "execution_count": null,
      "outputs": []
    }
  ],
  "metadata": {
    "kernelspec": {
      "name": "python36",
      "display_name": "Python 3.6",
      "language": "python"
    },
    "language_info": {
      "mimetype": "text/x-python",
      "nbconvert_exporter": "python",
      "name": "python",
      "pygments_lexer": "ipython3",
      "version": "3.6.6",
      "file_extension": ".py",
      "codemirror_mode": {
        "version": 3,
        "name": "ipython"
      }
    }
  },
  "nbformat": 4,
  "nbformat_minor": 2
}