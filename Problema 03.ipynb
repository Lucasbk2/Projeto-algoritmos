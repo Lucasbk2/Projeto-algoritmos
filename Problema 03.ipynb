{
  "cells": [
    {
      "metadata": {
        "collapsed": true,
        "trusted": false
      },
      "cell_type": "markdown",
      "source": "<center><h1>Projeto de algoritmos</h1> </center>"
    },
    {
      "metadata": {},
      "cell_type": "markdown",
      "source": "<center><h2>Problemas nas vagas de trânsito</h2></center>"
    },
    {
      "metadata": {},
      "cell_type": "markdown",
      "source": "<div style=\"display:flex\">\n     <div style=\"flex:1;padding-right:2px;\">\n          <p>A maioria das grandes cidades enfrentam um grande problema com estacionamento em suas vias públicas. A busca de vagas dos motoristas afeta drasticamente a mobilidade urbana, pois no tempo despendido nessa procura, acaba aumentando os congestionamentos, o consumo de combustível e consequentemente elevando os níveis de poluentes. Grande parte destas cidades encontrou no sistema rotativo uma forma de amenizar o problema, porém, uma ferramenta não muito eficaz ainda, quando se trata do usuário encontrar uma vaga. A cobrança no sistema de rotatividade nas ruas acaba sendo frustante, já que a busca por vagas em vias públicas demanda muito tempo, submetendo o usuário em muitas vezes a se ver obrigado a estacionar muito distante do local ao qual busca o acesso, ou tendo que pagar alto por um estacionamentos privativos. <br> <br>\n              \n\n\n     </div>\n     <div style=\"flex:1;padding-left:2px;\">\n          <img src=\"img/carga-descarga.jpg\" width='800' height='800'>\n     </div>\n</div>\n"
    },
    {
      "metadata": {},
      "cell_type": "markdown",
      "source": "<center><h1>Escopo do Projeto</h1></center>\n\n\n<p>Buscando otimizar o estacionamento nas vias públicas das grandes cidades, foi implementado um sistema de controle de uso de vagas\nInicialmente, foi identificada três ruas em um bairro, após, foram demarcadas as vagas de cada uma dessas ruas, conforme seus limites de espaços para estacionamento, onde cada uma dessas vagas recebeu uma identificação. No momento em que usuário ocupa essa vaga, esta é marcada no sistema, ou pelo agente de trânsito ou o próprio usuário, assinalando-a como disponível ou não, permitindo a um novo usuário verificar a disponibilidade de vagas em determinada via.<br> <br>\n"
    },
    {
      "metadata": {},
      "cell_type": "markdown",
      "source": "<center><h1>Estrutura do Projeto</h1></center>"
    },
    {
      "metadata": {
        "trusted": true
      },
      "cell_type": "code",
      "source": "#Declaração de variaveis\nbd=[]\n\ndecidirVaga=0\nuser = 0\nuserLogado = -1\nmarcar = 0\nbloqueador = 0\n\nrua1 = ['Disponível', 'Disponível', 'Disponível', 'Disponível']\nrua2 = ['Disponível', 'Disponível', 'Disponível', 'Disponível', 'Disponível']\nrua3 = ['Disponível']\nbairro = [rua1,rua2,rua3]\n\ndef marcarVaga():\n    if(user == 0):\n        print(\"Usuario não logado\")\n        print('')\n    else:\n        for contador in range (len(bd)): #\n            if login == bd[contador]['placa'] and senha == bd[contador]['senha']:\n                if(bd[contador][\"rua\"] == -1 and bd[contador][\"vaga\"] == -1):\n                    vagaSomador = 0\n                    for y in range(len(bairro)):\n                        print(\"----Rua {0}----\".format(y+1))\n                        for y2 in range (len(bairro[y])):\n                            if(y2 == 0):\n                                print(\"vaga {0} = {1}\".format(y2 + 1, bairro[y][y2]), end=\"\")\n\n                            else:\n                                print(\", vaga {0} = {1}\".format(y2+1, bairro[y][y2] ), end=\"\")\n\n                            if bairro[y][y2] == 'Disponível':\n                                vagaSomador +=1\n                        print(\" \")\n                        print('Existem {0} vagas na rua {1}'.format(vagaSomador,y+1))\n                        vagaSomador = 0\n                    global marcar\n                    marcar = int(input(\"Deseja marcar uma vaga em qual rua?(valor numerico) caso não queira marcar digitar 0\"))\n                    print('')\n                    marcar -=1\n                    print(bairro[marcar])\n                    print(marcar)\n                    print((len(bairro[y])+1))\n\n                    if marcar >= 0 and marcar <= (len(bairro)-1):\n\n                        for x2 in range(len(bairro)):\n                            if x2 == marcar:#1\n                                global marcar2\n                                marcar2 = int(input('Deseja marcar em qual vaga: '))\n                                marcar2 -= 1\n                                if marcar2 < (len(bairro[x2])):\n                                    if bairro[x2][marcar2] == 'Indisponível':\n                                        print('Essa vaga já está marcada, tente novamente.')\n\n                                    else:\n                                        print('Vaga marcada')\n                                        bairro[x2][marcar2] = 'Indisponível'\n\n                                        for x3 in range(len(bd)):\n                                            if login == bd[x3]['placa'] and senha == bd[x3]['senha']:\n                                                bd[x3]['rua'] = marcar\n                                                bd[x3]['vaga'] = marcar2\n                                                break\n                                else:\n                                    print('Vaga inválida')\n\n                    else:\n                        print(\"Nenhuma rua selecionada\")\n\n                else:\n                    print(\"Você já possui uma vaga, é necessário desmarcar uma vaga antes de prosseguir\")\n                    print('')\n\ndef desmarcarVaga():\n    decidirDesmarcar = input('Deseja desmarcar a vaga marcada Sim ou não: ')\n    if decidirDesmarcar == 'Sim' or decidirDesmarcar == 'sim':\n        for x4 in range (len(bd)):\n            if login == bd[x4]['placa'] and senha == bd[x4]['senha']:\n                if bd[x4]['rua'] ==-1 and bd[x4]['vaga'] ==-1:\n                    print('Para desmarcar uma vaga é necessário ter uma vaga marcada antes.')\n                else:\n                    x5aux = -1\n                    for x5 in range (len(bairro)):\n                        x5aux += 1\n                        if x5aux == bd[x4]['rua']:\n                            x6aux = -1\n\n                            for x6 in range (len(bairro[x5])):\n                                x6aux =+ 1\n                                if x6 == bd[x4]['vaga']:\n                                    bairro[x5][x6] = 'Disponível'\n                                    bd[x4]['rua'] = -1\n                                    bd[x4]['vaga'] = -1\n                                    print('vaga resetada')\n\n    elif decidirDesmarcar == 'não' or decidirDesmarcar =='nao' or decidirDesmarcar == 'Não' or decidirDesmarcar =='Nao':\n        print('Retornando para as opções de marcação')\n    else:\n        print('Comando inválido')\n\ndef cadastro():\n    dados = { }\n    dados['placa'] = input('Digite seu nome: ')\n    dados['senha'] = input(\"Digite sua senha: \")\n    dados['rua'] = -1\n    dados['vaga'] = -1\n    global bloqueador\n    bloqueador += 1\n    if bloqueador > 1:\n        existe = False\n        for registro in range (len(bd)):\n            if dados['placa'] == bd[registro]['placa']:\n                print('Está placa já está registrada, tente outra vez. ')\n                existe= True\n        if(not existe ):\n            bd.append(dados)\n    elif bloqueador == 1:\n        bd.append(dados)\n\ndef entrar():\n    global user, login, senha, userLogado\n    login = input('Digite sua placa: ')\n    senha = input('Digite sua senha: ')\n    for x in range(len(bd)):  # roda a quantidade de listas em bd\n        if login == bd[x]['placa'] and senha == bd[x]['senha']:\n            userLogado = x\n            print(\"Usuário autenticado!\")\n            user = 1\n            break\n        else:\n            user = 0\n    if login == 'admin' and senha == 'admin':\n        print(\"Administrador autenticado!\")\n        user = 2\n    if user == 0:\n        print(\"Usuario ou senha Inválidos, tente novamente!\")\n\ndef visualizarRuas():\n    vagaSomador = 0\n    for y in range(len(bairro)):\n        print(\"----Rua {0}----\".format(y + 1))\n        for y2 in range(len(bairro[y])):\n            if (y2 == 0):\n                print(\"vaga {0} = {1}\".format(y2 + 1, bairro[y][y2]), end=\"\")\n\n            else:\n                print(\", vaga {0} = {1}\".format(y2 + 1, bairro[y][y2]), end=\"\")\n\n            if bairro[y][y2] == 'Disponível':\n                vagaSomador += 1\n        print(\" \")\n        print('Existem {0} vagas na rua {1}'.format(vagaSomador, y + 1))\n        vagaSomador = 0\n\ndef desmarcarAdmin():\n    y= 0\n    y2=0\n    vagaSomador = 0\n    for y in range(len(bairro)):\n        print(\"----Rua {0}----\".format(y + 1))\n        for y2 in range(len(bairro[y])):\n            if (y2 == 0):\n                print(\"vaga {0} = {1}\".format(y2 + 1, bairro[y][y2]), end=\"\")\n\n            else:\n                print(\", vaga {0} = {1}\".format(y2 + 1, bairro[y][y2]), end=\"\")\n\n            if bairro[y][y2] == 'Disponível':\n                vagaSomador += 1\n        print(\" \")\n        print('Existem {0} vagas na rua {1}'.format(vagaSomador, y + 1))\n        vagaSomador = 0\n    print(bairro[y])\n    desmarcar = int(input('Deseja desmarcar a vaga em qual rua: '))\n    desmarcar -= 1\n    if desmarcar >= 0 and desmarcar <= (len(bairro )- 1):\n        for x2 in range(len(bairro)):\n            if x2 == desmarcar:\n                global desmarcar2\n                desmarcar2 = int(input('Deseja marcar em qual vaga: '))\n                desmarcar2 -= 1\n                if desmarcar2 < (len(bairro[x2])):\n                    if bairro[x2][desmarcar2] == 'Disponível':\n                        print('Essa vaga já está disponivel, tente novamente.')\n                    else:\n                        print('Vaga desmarcada com sucesso!')\n                        bairro[x2][desmarcar2] = 'Disponível'\n\n                        for x3 in range(len(bd)):#roda 3 vezes\n                            if desmarcar == bd[x3]['rua'] and desmarcar2 == bd[x3]['vaga']:\n                                bd[x3]['rua'] = -1\n                                bd[x3]['vaga'] = -1\n                                print(bd)\n\n# programa principal\nstart = 1\nwhile start != '3':\n\n    if user == 1:\n        start2 = 0\n        while start2 != 3:\n            start2 = str(input('Deseja marcar uma vaga(1), desmarcar uma vaga(2),visualizas as vagas (3) ou realizar logoff(4): '))\n            print('')\n\n            if start2 == '1':\n                marcarVaga()\n            elif(start2 == \"2\"):\n                desmarcarVaga()\n            elif(start2 == \"3\"):\n                visualizarRuas()\n            elif(start2 == \"4\"):\n                user = 0\n                login = ''\n                senha = ''\n                start = 0\n                start2 = 3\n                marcar = 0\n                marcar2 = 0\n    elif user ==2:\n        start2 = 0\n        while start2 != 3:\n            start2 = str(input('Desmarcar uma vaga(1),visualizar as ruas(2) ou realizar logoff(3): '))\n            if start2 == '1':\n                desmarcarAdmin()\n            elif start2 == '2':\n                visualizarRuas()\n            elif start2 == '3':\n                user = 0\n                login = ''\n                senha = ''\n                start = 0\n                start2 = 3\n                desmarcar = 0\n                desmarcar2 = 0\n                                        \n\n            else:\n                print(\"Comando inválido\")\n    else:\n        start = input('Deseja criar uma conta(1), fazer login(2) ou sair do programa(3): ')\n        print('')\n        if start == '1':\n            cadastro()\n            print(bd)\n        elif start == '2':\n            entrar()\n        elif start == '3':\n            print('Volte sempre!')\n        else:\n            print(\"Comando inválido.\")",
      "execution_count": 1,
      "outputs": [
        {
          "output_type": "stream",
          "name": "stdout",
          "text": "Deseja criar uma conta(1), fazer login(2) ou sair do programa(3): 3\n\nVolte sempre!\n"
        }
      ]
    },
    {
      "metadata": {},
      "cell_type": "markdown",
      "source": "<center><h1>Fase 3 - Implementação</h1></center>"
    },
    {
      "metadata": {},
      "cell_type": "markdown",
      "source": "<center><h2> Usuário </h2>\n<h3> Cadastro </h3></center>"
    },
    {
      "metadata": {
        "trusted": true
      },
      "cell_type": "code",
      "source": "def cadastro():\n    dados = { }\n    dados['placa'] = input('Digite seu nome: ')\n    dados['senha'] = input(\"Digite sua senha: \")\n    dados['rua'] = -1\n    dados['vaga'] = -1\n    global bloqueador\n    bloqueador += 1\n    if bloqueador > 1:\n        existe = False\n        for registro in range (len(bd)):\n            if dados['placa'] == bd[registro]['placa']:\n                print('Está placa já está registrada, tente outra vez. ')\n                existe= True\n        if(not existe ):\n            bd.append(dados)\n    elif bloqueador == 1:\n        bd.append(dados)",
      "execution_count": null,
      "outputs": []
    },
    {
      "metadata": {},
      "cell_type": "markdown",
      "source": "<center><h3>Autenticação</h3></center>"
    },
    {
      "metadata": {
        "trusted": true
      },
      "cell_type": "code",
      "source": "def entrar():\n    global user, login, senha, userLogado\n    login = input('Digite sua placa: ')\n    senha = input('Digite sua senha: ')\n    for x in range(len(bd)):  # roda a quantidade de listas em bd\n        if login == bd[x]['placa'] and senha == bd[x]['senha']:\n            userLogado = x\n            print(\"Usuário autenticado!\")\n            user = 1\n            break\n        else:\n            user = 0\n    if login == 'admin' and senha == 'admin':\n        print(\"Administrador autenticado!\")\n        user = 2\n    if user == 0:\n        print(\"Usuario ou senha Inválidos, tente novamente!\")\n",
      "execution_count": null,
      "outputs": []
    },
    {
      "metadata": {},
      "cell_type": "markdown",
      "source": "<center><h3>Marcar vaga</h3></center>"
    },
    {
      "metadata": {
        "trusted": true
      },
      "cell_type": "code",
      "source": "def marcarVaga():\n    if(user == 0):\n        print(\"Usuario não logado\")\n        print('')\n    else:\n        for contador in range (len(bd)): #\n            if login == bd[contador]['placa'] and senha == bd[contador]['senha']:\n                if(bd[contador][\"rua\"] == -1 and bd[contador][\"vaga\"] == -1):\n                    vagaSomador = 0\n                    for y in range(len(bairro)):\n                        print(\"----Rua {0}----\".format(y+1))\n                        for y2 in range (len(bairro[y])):\n                            if(y2 == 0):\n                                print(\"vaga {0} = {1}\".format(y2 + 1, bairro[y][y2]), end=\"\")\n\n                            else:\n                                print(\", vaga {0} = {1}\".format(y2+1, bairro[y][y2] ), end=\"\")\n\n                            if bairro[y][y2] == 'Disponível':\n                                vagaSomador +=1\n                        print(\" \")\n                        print('Existem {0} vagas na rua {1}'.format(vagaSomador,y+1))\n                        vagaSomador = 0\n                    global marcar\n                    marcar = int(input(\"Deseja marcar uma vaga em qual rua?(valor numerico) caso não queira marcar digitar 0\"))\n                    print('')\n                    marcar -=1\n                    print(bairro[marcar])\n                    print(marcar)\n                    print((len(bairro[y])+1))\n\n                    if marcar >= 0 and marcar <= (len(bairro)-1):\n\n                        for x2 in range(len(bairro)):\n                            if x2 == marcar:#1\n                                global marcar2\n                                marcar2 = int(input('Deseja marcar em qual vaga: '))\n                                marcar2 -= 1\n                                if marcar2 < (len(bairro[x2])):\n                                    if bairro[x2][marcar2] == 'Indisponível':\n                                        print('Essa vaga já está marcada, tente novamente.')\n\n                                    else:\n                                        print('Vaga marcada')\n                                        bairro[x2][marcar2] = 'Indisponível'\n\n                                        for x3 in range(len(bd)):\n                                            if login == bd[x3]['placa'] and senha == bd[x3]['senha']:\n                                                bd[x3]['rua'] = marcar\n                                                bd[x3]['vaga'] = marcar2\n                                                break\n                                else:\n                                    print('Vaga inválida')\n\n                    else:\n                        print(\"Nenhuma rua selecionada\")\n\n                else:\n                    print(\"Você já possui uma vaga, é necessário desmarcar uma vaga antes de prosseguir\")\n                    print('')",
      "execution_count": null,
      "outputs": []
    },
    {
      "metadata": {},
      "cell_type": "markdown",
      "source": "<center><h3>Desmarcar a vaga</h3></center>"
    },
    {
      "metadata": {
        "trusted": true
      },
      "cell_type": "code",
      "source": "def desmarcarVaga():\n    decidirDesmarcar = input('Deseja desmarcar a vaga marcada Sim ou não: ')\n    if decidirDesmarcar == 'Sim' or decidirDesmarcar == 'sim':\n        for x4 in range (len(bd)):\n            if login == bd[x4]['placa'] and senha == bd[x4]['senha']:\n                if bd[x4]['rua'] ==-1 and bd[x4]['vaga'] ==-1:\n                    print('Para desmarcar uma vaga é necessário ter uma vaga marcada antes.')\n                else:\n                    x5aux = -1\n                    for x5 in range (len(bairro)):\n                        x5aux += 1\n                        if x5aux == bd[x4]['rua']:\n                            x6aux = -1\n\n                            for x6 in range (len(bairro[x5])):\n                                x6aux =+ 1\n                                if x6 == bd[x4]['vaga']:\n                                    bairro[x5][x6] = 'Disponível'\n                                    bd[x4]['rua'] = -1\n                                    bd[x4]['vaga'] = -1\n                                    print('vaga resetada')",
      "execution_count": null,
      "outputs": []
    },
    {
      "metadata": {},
      "cell_type": "markdown",
      "source": "<center><h2> Administrador </h2>\n    <h3>Desmarcar a vaga</h3></center>"
    },
    {
      "metadata": {
        "trusted": true
      },
      "cell_type": "code",
      "source": "",
      "execution_count": null,
      "outputs": []
    }
  ],
  "metadata": {
    "kernelspec": {
      "name": "python36",
      "display_name": "Python 3.6",
      "language": "python"
    },
    "language_info": {
      "mimetype": "text/x-python",
      "nbconvert_exporter": "python",
      "name": "python",
      "pygments_lexer": "ipython3",
      "version": "3.6.6",
      "file_extension": ".py",
      "codemirror_mode": {
        "version": 3,
        "name": "ipython"
      }
    }
  },
  "nbformat": 4,
  "nbformat_minor": 2
}